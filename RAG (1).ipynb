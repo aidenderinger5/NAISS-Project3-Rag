{
  "nbformat": 4,
  "nbformat_minor": 0,
  "metadata": {
    "colab": {
      "provenance": []
    },
    "kernelspec": {
      "name": "python3",
      "display_name": "Python 3"
    },
    "language_info": {
      "name": "python"
    }
  },
  "cells": [
    {
      "cell_type": "code",
      "execution_count": 1,
      "metadata": {
        "id": "7cl4o-ZSfUMQ"
      },
      "outputs": [],
      "source": [
        "from openai import OpenAI\n",
        "import numpy as np"
      ]
    },
    {
      "cell_type": "code",
      "source": [
        "client = OpenAI(api_key=\"\") #Removed my personal key from here"
      ],
      "metadata": {
        "id": "kN-F9psYgOKP"
      },
      "execution_count": 12,
      "outputs": []
    },
    {
      "cell_type": "code",
      "source": [
        "with open('messi.txt', 'r') as f:\n",
        "    text = f.read()\n",
        "    print(text)"
      ],
      "metadata": {
        "colab": {
          "base_uri": "https://localhost:8080/"
        },
        "id": "Gi1isaacfWux",
        "outputId": "91603e11-710f-4c29-878c-ec1a5990bcaa"
      },
      "execution_count": 13,
      "outputs": [
        {
          "output_type": "stream",
          "name": "stdout",
          "text": [
            "Lionel Andrés Messi[note 1] (Spanish pronunciation: [ljoˈnel anˈdɾes ˈmesi] ⓘ; born 24 June 1987), also known as Leo Messi, is an Argentine professional footballer who plays as a forward for and captains both Major League Soccer club Inter Miami and the Argentina national team. Widely regarded as one of the greatest players of all time, Messi set numerous records for individual accolades won throughout his professional footballing career such as eight Ballon d'Or awards and eight times being named the world's best player by FIFA.[note 2] He is the most decorated player in the history of professional football having won 45 team trophies,[note 3] including twelve league titles, four UEFA Champions Leagues, two Copa Américas, and one FIFA World Cup. Messi holds the records for most European Golden Shoes (6), most goals for a single club (672, with Barcelona), most goals (474), hat-tricks (36) and assists (192) in La Liga, most matches played (39), assists (18) and goal contributions (34) in the Copa América, most matches played (26) and goal contributions (21) in the World Cup, most international appearances (189) and international goals (112) by a South American male, and the second-most in the latter category outright. A prolific goalscorer and creative playmaker, Messi has scored over 850 senior career goals for club and country.\n",
            "\n",
            "Born in Rosario, Argentina, Messi relocated to Spain to join Barcelona at age 13, and made his competitive debut at age 17 in October 2004. He established himself as an integral player for the club within the next three years, and in his first uninterrupted season in 2008–09 helped Barcelona achieve the first treble in Spanish football; that year, aged 22, Messi won the first of his four consecutive Ballons d'Or, the first player to win it four times. During the 2011–12 season, he set La Liga and European records for most goals in a season, while establishing himself as Barcelona's all-time top scorer. The following two seasons, he finished second for the Ballon d'Or behind Cristiano Ronaldo, his perceived career rival, before regaining his best form during the 2014–15 campaign, where he became the all-time top scorer in La Liga, led Barcelona to a historic second treble, and won a fifth Ballon d'Or in 2015. Messi assumed captaincy of Barcelona in 2018, and won a record sixth Ballon d'Or in 2019. During his overall tenure at Barcelona, Messi won a club-record 34 trophies, including ten La Liga titles and four UEFA Champions Leagues, among others. He signed for French club Paris Saint-Germain in August 2021, where he would win the Ligue 1 title during both of his seasons there. Messi joined American club Inter Miami in July 2023, and set a new mark for most goals scored for the club by his second season.\n",
            "\n",
            "An Argentine international, Messi is the national team's all-time leading goalscorer and most-capped player. His style of play as a diminutive, left-footed dribbler drew career-long comparisons with compatriot Diego Maradona, who described Messi as his successor. At the youth level, he won the 2005 FIFA World Youth Championship and gold medal at the 2008 Summer Olympics. After his senior debut in 2005, Messi became the youngest Argentine to play and score in a World Cup in 2006. He assumed the national team's captaincy in 2011, and then led Argentina to three consecutive finals: the 2014 FIFA World Cup, the 2015 Copa América and the Copa América Centenario, all of which they would lose. After initially announcing his international retirement in 2016, he returned to help his country narrowly qualify for the 2018 FIFA World Cup, which they would again exit early. Messi and the national team finally broke Argentina's 28-year trophy drought with a victory in the 2021 Copa América, where he was named the tournament's best player and which later helped him win his seventh Ballon d'Or that year. He then led Argentina to win the 2022 FIFA World Cup, his country's third overall world championship and first in 36 years. This followed with a record-extending eighth Ballon d'Or in 2023. A second Copa América victory with Messi as captain came in 2024.\n",
            "\n",
            "Messi has endorsed sportswear company Adidas since 2006. According to France Football, he was the world's highest-paid footballer for five years out of six between 2009 and 2014, and was ranked the world's highest-paid athlete by Forbes in 2019 and 2022. Messi was among Time's 100 most influential people in the world in 2011, 2012, and 2023. In 2020 and 2023, he was named the Laureus World Sportsman of the Year, the first team-sport athlete to win it. In 2020, Messi was named to the Ballon d'Or Dream Team and became the second footballer and second team-sport athlete to surpass $1 billion in career earnings.\n",
            "\n",
            "Early life\n",
            "Messi was born on 24 June 1987 in Rosario, Santa Fe Province,[21] the third of four children of Jorge Messi, a steel factory manager, and his wife Celia Cuccittini, who worked in a magnet manufacturing workshop. On his father's side, he is of Italian and Spanish descent, the great-grandson of immigrants from the north-central Adriatic Marche region of Italy, and on his mother's side, he has primarily Italian ancestry.[3] Growing up in a tight-knit, football-loving family, \"Leo\" developed a passion for the sport from an early age, playing constantly with his older brothers, Rodrigo and Matías, and his cousins, Maximiliano and Emanuel Biancucchi, both of whom became professional footballers.[22] At the age of four he joined local club Grandoli, where he was coached by his father, though his earliest influence as a player came from his maternal grandmother, Celia, who accompanied him to training and matches.[23] He was greatly affected by her death, shortly before his eleventh birthday; since then, as a devout Catholic, he has celebrated his goals by looking up and pointing to the sky in tribute to his grandmother.[24][25]\n"
          ]
        }
      ]
    },
    {
      "cell_type": "code",
      "source": [
        "CHUNNK_SIZE = 100\n",
        "chunks = []\n",
        "current_place = 0\n",
        "while current_place < len(text):\n",
        "    current_chunk = text[current_place : current_place + CHUNNK_SIZE]\n",
        "    chunks.append(current_chunk)\n",
        "    current_place += CHUNNK_SIZE\n",
        "print(chunks)"
      ],
      "metadata": {
        "colab": {
          "base_uri": "https://localhost:8080/"
        },
        "id": "mlBvm_UNfh1b",
        "outputId": "d7f90985-08b6-428e-904a-485f24e0823d"
      },
      "execution_count": 14,
      "outputs": [
        {
          "output_type": "stream",
          "name": "stdout",
          "text": [
            "['Lionel Andrés Messi[note 1] (Spanish pronunciation: [ljoˈnel anˈdɾes ˈmesi] ⓘ; born 24 June 1987), a', 'lso known as Leo Messi, is an Argentine professional footballer who plays as a forward for and capta', 'ins both Major League Soccer club Inter Miami and the Argentina national team. Widely regarded as on', 'e of the greatest players of all time, Messi set numerous records for individual accolades won throu', \"ghout his professional footballing career such as eight Ballon d'Or awards and eight times being nam\", \"ed the world's best player by FIFA.[note 2] He is the most decorated player in the history of profes\", 'sional football having won 45 team trophies,[note 3] including twelve league titles, four UEFA Champ', 'ions Leagues, two Copa Américas, and one FIFA World Cup. Messi holds the records for most European G', 'olden Shoes (6), most goals for a single club (672, with Barcelona), most goals (474), hat-tricks (3', '6) and assists (192) in La Liga, most matches played (39), assists (18) and goal contributions (34) ', 'in the Copa América, most matches played (26) and goal contributions (21) in the World Cup, most int', 'ernational appearances (189) and international goals (112) by a South American male, and the second-', 'most in the latter category outright. A prolific goalscorer and creative playmaker, Messi has scored', ' over 850 senior career goals for club and country.\\n\\nBorn in Rosario, Argentina, Messi relocated to ', 'Spain to join Barcelona at age 13, and made his competitive debut at age 17 in October 2004. He esta', 'blished himself as an integral player for the club within the next three years, and in his first uni', 'nterrupted season in 2008–09 helped Barcelona achieve the first treble in Spanish football; that yea', \"r, aged 22, Messi won the first of his four consecutive Ballons d'Or, the first player to win it fou\", 'r times. During the 2011–12 season, he set La Liga and European records for most goals in a season, ', \"while establishing himself as Barcelona's all-time top scorer. The following two seasons, he finishe\", \"d second for the Ballon d'Or behind Cristiano Ronaldo, his perceived career rival, before regaining \", 'his best form during the 2014–15 campaign, where he became the all-time top scorer in La Liga, led B', \"arcelona to a historic second treble, and won a fifth Ballon d'Or in 2015. Messi assumed captaincy o\", \"f Barcelona in 2018, and won a record sixth Ballon d'Or in 2019. During his overall tenure at Barcel\", 'ona, Messi won a club-record 34 trophies, including ten La Liga titles and four UEFA Champions Leagu', 'es, among others. He signed for French club Paris Saint-Germain in August 2021, where he would win t', 'he Ligue 1 title during both of his seasons there. Messi joined American club Inter Miami in July 20', '23, and set a new mark for most goals scored for the club by his second season.\\n\\nAn Argentine intern', \"ational, Messi is the national team's all-time leading goalscorer and most-capped player. His style \", 'of play as a diminutive, left-footed dribbler drew career-long comparisons with compatriot Diego Mar', 'adona, who described Messi as his successor. At the youth level, he won the 2005 FIFA World Youth Ch', 'ampionship and gold medal at the 2008 Summer Olympics. After his senior debut in 2005, Messi became ', \"the youngest Argentine to play and score in a World Cup in 2006. He assumed the national team's capt\", 'aincy in 2011, and then led Argentina to three consecutive finals: the 2014 FIFA World Cup, the 2015', ' Copa América and the Copa América Centenario, all of which they would lose. After initially announc', 'ing his international retirement in 2016, he returned to help his country narrowly qualify for the 2', '018 FIFA World Cup, which they would again exit early. Messi and the national team finally broke Arg', \"entina's 28-year trophy drought with a victory in the 2021 Copa América, where he was named the tour\", \"nament's best player and which later helped him win his seventh Ballon d'Or that year. He then led A\", \"rgentina to win the 2022 FIFA World Cup, his country's third overall world championship and first in\", \" 36 years. This followed with a record-extending eighth Ballon d'Or in 2023. A second Copa América v\", 'ictory with Messi as captain came in 2024.\\n\\nMessi has endorsed sportswear company Adidas since 2006.', \" According to France Football, he was the world's highest-paid footballer for five years out of six \", \"between 2009 and 2014, and was ranked the world's highest-paid athlete by Forbes in 2019 and 2022. M\", \"essi was among Time's 100 most influential people in the world in 2011, 2012, and 2023. In 2020 and \", '2023, he was named the Laureus World Sportsman of the Year, the first team-sport athlete to win it. ', \"In 2020, Messi was named to the Ballon d'Or Dream Team and became the second footballer and second t\", 'eam-sport athlete to surpass $1 billion in career earnings.\\n\\nEarly life\\nMessi was born on 24 June 19', '87 in Rosario, Santa Fe Province,[21] the third of four children of Jorge Messi, a steel factory man', \"ager, and his wife Celia Cuccittini, who worked in a magnet manufacturing workshop. On his father's \", 'side, he is of Italian and Spanish descent, the great-grandson of immigrants from the north-central ', \"Adriatic Marche region of Italy, and on his mother's side, he has primarily Italian ancestry.[3] Gro\", 'wing up in a tight-knit, football-loving family, \"Leo\" developed a passion for the sport from an ear', 'ly age, playing constantly with his older brothers, Rodrigo and Matías, and his cousins, Maximiliano', ' and Emanuel Biancucchi, both of whom became professional footballers.[22] At the age of four he joi', 'ned local club Grandoli, where he was coached by his father, though his earliest influence as a play', 'er came from his maternal grandmother, Celia, who accompanied him to training and matches.[23] He wa', 's greatly affected by her death, shortly before his eleventh birthday; since then, as a devout Catho', 'lic, he has celebrated his goals by looking up and pointing to the sky in tribute to his grandmother', '.[24][25]']\n"
          ]
        }
      ]
    },
    {
      "cell_type": "code",
      "source": [
        "embedded_chunks = []\n",
        "for chunk in chunks:\n",
        "    response = client.embeddings.create(\n",
        "        input=chunk,\n",
        "        model=\"text-embedding-3-small\"\n",
        "    )\n",
        "    embedded_chunks.append( (chunk, response.data[0].embedding) )"
      ],
      "metadata": {
        "id": "wC-5nZg4gB99"
      },
      "execution_count": 22,
      "outputs": []
    },
    {
      "cell_type": "code",
      "source": [
        "question = input(\" \") # Have question input instead of the hard coded ones\n",
        "question_embedding = client.embeddings.create(\n",
        "    input=question,\n",
        "    model=\"text-embedding-3-small\"\n",
        ").data[0].embedding"
      ],
      "metadata": {
        "colab": {
          "base_uri": "https://localhost:8080/"
        },
        "id": "PPxc9hxogNkn",
        "outputId": "025a1b3a-f557-4154-a38a-effe933cc634"
      },
      "execution_count": 43,
      "outputs": [
        {
          "name": "stdout",
          "output_type": "stream",
          "text": [
            " When was Messi born\n"
          ]
        }
      ]
    },
    {
      "cell_type": "code",
      "source": [
        "def cosine_similarity(A, B):\n",
        "    return np.dot(A, B) / (np.linalg.norm(A) * np.linalg.norm(B))"
      ],
      "metadata": {
        "id": "At_VEy0pikhG"
      },
      "execution_count": 44,
      "outputs": []
    },
    {
      "cell_type": "code",
      "source": [
        "best_cosine_similarity = 0\n",
        "index = 0\n",
        "for chunk in embedded_chunks:\n",
        "    chunk_text, chunk_embedding = chunk\n",
        "    similarity = cosine_similarity(question_embedding, chunk_embedding)\n",
        "    if similarity > best_cosine_similarity:\n",
        "        best_cosine_similarity = similarity\n",
        "        bestChunk = index\n",
        "    index += 1"
      ],
      "metadata": {
        "id": "P7SSepz-izpY"
      },
      "execution_count": 45,
      "outputs": []
    },
    {
      "cell_type": "code",
      "source": [
        "print(f\"Relevant information: {embedded_chunks[bestChunk][0]}\")\n",
        "\n",
        "completion = client.chat.completions.create(\n",
        "    model=\"gpt-3.5-turbo\", # Used 3.5 so I don't get taxed but this can be changed for testing\n",
        "    messages=[\n",
        "        {\"role\": \"system\", \"content\": \"You are a helpful assistant.\"},\n",
        "        {\n",
        "            \"role\": \"user\", \"content\": f\"User question: {question}. Potentially useful information: {embedded_chunks[bestChunk][0]}\"\n",
        "        }\n",
        "    ]\n",
        ")"
      ],
      "metadata": {
        "colab": {
          "base_uri": "https://localhost:8080/"
        },
        "id": "H1NwR5z-jAcO",
        "outputId": "9ed19463-b47b-4f5c-af17-f847df5d7a54"
      },
      "execution_count": 46,
      "outputs": [
        {
          "output_type": "stream",
          "name": "stdout",
          "text": [
            "Relevant information: Lionel Andrés Messi[note 1] (Spanish pronunciation: [ljoˈnel anˈdɾes ˈmesi] ⓘ; born 24 June 1987), a\n"
          ]
        }
      ]
    },
    {
      "cell_type": "code",
      "source": [
        "print(completion.choices[0].message.content)"
      ],
      "metadata": {
        "colab": {
          "base_uri": "https://localhost:8080/"
        },
        "id": "zPszxw2ajZbb",
        "outputId": "678519d0-f2f8-4c04-d069-f0bd1390191b"
      },
      "execution_count": 47,
      "outputs": [
        {
          "output_type": "stream",
          "name": "stdout",
          "text": [
            "Messi was born on June 24, 1987.\n"
          ]
        }
      ]
    }
  ]
}